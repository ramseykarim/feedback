{
 "cells": [
  {
   "cell_type": "markdown",
   "id": "4baec0be",
   "metadata": {},
   "source": [
    "Following from `m16_pdrt.py`."
   ]
  },
  {
   "cell_type": "code",
   "execution_count": 3,
   "id": "83140e75",
   "metadata": {},
   "outputs": [],
   "source": [
    "import os\n",
    "\n",
    "from pdrtpy.modelset import ModelSet\n",
    "from pdrtpy.plot.modelplot import ModelPlot\n",
    "from pdrtpy.measurement import Measurement\n",
    "import pdrtpy.pdrutils as utils\n",
    "from pdrtpy.tool.lineratiofit import LineRatioFit\n",
    "from pdrtpy.plot.lineratioplot import LineRatioPlot\n",
    "\n",
    "from astropy.nddata import StdDevUncertainty\n",
    "import astropy.units as u\n",
    "from astropy.table import Table, QTable\n",
    "\n",
    "from copy import deepcopy\n",
    "\n",
    "data_dir = \"/home/ramsey/Documents/Research/Feedback/m16_data/catalogs/pdrt\"\n",
    "if not os.path.isdir(data_dir):\n",
    "    data_dir = \"/home/rkarim/Research/Feedback/m16_data/catalogs/pdrt\"\n",
    "\n",
    "def get_measurement_filename(line_stub):\n",
    "    fn = os.path.join(data_dir, f\"{line_stub}_v2__pillar1_pointsofinterest_v3.txt\")\n",
    "    if not os.path.exists(fn):\n",
    "        fn = os.path.join(data_dir, f\"{line_stub}__pillar1_pointsofinterest_v3.txt\")\n",
    "    return fn\n",
    "\n",
    "user_models = {'CO_65/FIR': ('CO65_FIR.fits', \"CO(J=6-5) / I$_{FIR}$\")}"
   ]
  },
  {
   "cell_type": "code",
   "execution_count": 39,
   "id": "7276a622",
   "metadata": {},
   "outputs": [
    {
     "data": {
      "text/html": [
       "<div><i>QTable length=8</i>\n",
       "<table id=\"table139847795915504\" class=\"table-striped table-bordered table-condensed\">\n",
       "<thead><tr><th>data</th><th>uncertainty</th><th>identifier</th><th>region</th></tr></thead>\n",
       "<thead><tr><th>erg / (cm2 s sr)</th><th>%</th><th></th><th></th></tr></thead>\n",
       "<thead><tr><th>float64</th><th>float64</th><th>str3</th><th>str10</th></tr></thead>\n",
       "<tr><td>0.35380853310301363</td><td>10.0</td><td>FIR</td><td>broad-line</td></tr>\n",
       "<tr><td>0.311529018434361</td><td>10.0</td><td>FIR</td><td>E-peak</td></tr>\n",
       "<tr><td>0.2600331736592293</td><td>10.0</td><td>FIR</td><td>NE-thread</td></tr>\n",
       "<tr><td>0.2570413639734228</td><td>10.0</td><td>FIR</td><td>NW-thread</td></tr>\n",
       "<tr><td>0.5451950396427298</td><td>10.0</td><td>FIR</td><td>W-peak</td></tr>\n",
       "<tr><td>0.2517655337542024</td><td>10.0</td><td>FIR</td><td>SE-thread</td></tr>\n",
       "<tr><td>0.2464565997383935</td><td>10.0</td><td>FIR</td><td>SW-thread</td></tr>\n",
       "<tr><td>0.3938317367065815</td><td>10.0</td><td>FIR</td><td>S-peak</td></tr>\n",
       "</table></div>"
      ],
      "text/plain": [
       "<QTable length=8>\n",
       "        data        uncertainty identifier   region  \n",
       "  erg / (cm2 s sr)       %                           \n",
       "      float64         float64      str3      str10   \n",
       "------------------- ----------- ---------- ----------\n",
       "0.35380853310301363        10.0        FIR broad-line\n",
       "  0.311529018434361        10.0        FIR     E-peak\n",
       " 0.2600331736592293        10.0        FIR  NE-thread\n",
       " 0.2570413639734228        10.0        FIR  NW-thread\n",
       " 0.5451950396427298        10.0        FIR     W-peak\n",
       " 0.2517655337542024        10.0        FIR  SE-thread\n",
       " 0.2464565997383935        10.0        FIR  SW-thread\n",
       " 0.3938317367065815        10.0        FIR     S-peak"
      ]
     },
     "execution_count": 39,
     "metadata": {},
     "output_type": "execute_result"
    }
   ],
   "source": [
    "fn = get_measurement_filename('FIR')\n",
    "t_fir = QTable.read(fn, format='ipac')\n",
    "t_fir"
   ]
  },
  {
   "cell_type": "code",
   "execution_count": 41,
   "id": "9c4cd1d4",
   "metadata": {},
   "outputs": [
    {
     "data": {
      "text/plain": [
       "astropy.units.quantity.Quantity"
      ]
     },
     "execution_count": 41,
     "metadata": {},
     "output_type": "execute_result"
    }
   ],
   "source": [
    "type(t_fir['data'])"
   ]
  },
  {
   "cell_type": "code",
   "execution_count": 42,
   "id": "5791f3a7",
   "metadata": {
    "scrolled": true
   },
   "outputs": [
    {
     "data": {
      "text/html": [
       "<div><i>QTable length=1</i>\n",
       "<table id=\"table139847720443184\" class=\"table-striped table-bordered table-condensed\">\n",
       "<thead><tr><th>data</th><th>uncertainty</th><th>identifier</th><th>region</th><th>rest_freq</th></tr></thead>\n",
       "<thead><tr><th>K km / s</th><th>K km / s</th><th></th><th></th><th>Hz</th></tr></thead>\n",
       "<thead><tr><th>float64</th><th>float64</th><th>str7</th><th>str6</th><th>float64</th></tr></thead>\n",
       "<tr><td>201.16367493938617</td><td>2.958039891549808</td><td>CII_158</td><td>W-peak</td><td>1900536900000.0</td></tr>\n",
       "</table></div>"
      ],
      "text/plain": [
       "<QTable length=1>\n",
       "       data           uncertainty    identifier region    rest_freq   \n",
       "     K km / s           K km / s                              Hz      \n",
       "     float64            float64         str7     str6      float64    \n",
       "------------------ ----------------- ---------- ------ ---------------\n",
       "201.16367493938617 2.958039891549808    CII_158 W-peak 1900536900000.0"
      ]
     },
     "execution_count": 42,
     "metadata": {},
     "output_type": "execute_result"
    }
   ],
   "source": [
    "fn = get_measurement_filename(\"cii\")\n",
    "t = QTable.read(fn, format='ipac')\n",
    "\n",
    "t"
   ]
  },
  {
   "cell_type": "code",
   "execution_count": 47,
   "id": "542f2263",
   "metadata": {},
   "outputs": [
    {
     "data": {
      "text/plain": [
       "array([201.16367494])"
      ]
     },
     "execution_count": 47,
     "metadata": {},
     "output_type": "execute_result"
    }
   ],
   "source": [
    "t['data'].value"
   ]
  },
  {
   "cell_type": "code",
   "execution_count": 34,
   "id": "11210e70",
   "metadata": {},
   "outputs": [
    {
     "data": {
      "text/plain": [
       "OrderedDict([('BUNIT', 'K km / s'),\n",
       "             ('BMAJ', None),\n",
       "             ('BMIN', None),\n",
       "             ('BPA', None)])"
      ]
     },
     "execution_count": 34,
     "metadata": {},
     "output_type": "execute_result"
    }
   ],
   "source": [
    "meas_1 = Measurement.from_table(fn)\n",
    "meas_1.header"
   ]
  },
  {
   "cell_type": "code",
   "execution_count": 49,
   "id": "6204b94a",
   "metadata": {},
   "outputs": [
    {
     "data": {
      "text/plain": [
       "'1900536900000.0 Hz'"
      ]
     },
     "execution_count": 49,
     "metadata": {},
     "output_type": "execute_result"
    }
   ],
   "source": [
    "meas_2 = Measurement(data=t['data'].value, uncertainty=StdDevUncertainty(t['uncertainty'].value), identifier=t['identifier'], unit=str(t['data'][0].unit), restfreq=str(t['rest_freq'][0]))\n",
    "meas_2._restfreq"
   ]
  },
  {
   "cell_type": "code",
   "execution_count": 32,
   "id": "31240c8e",
   "metadata": {},
   "outputs": [
    {
     "data": {
      "text/plain": [
       "OrderedDict([('RESTFREQ', 1900536900000.0),\n",
       "             ('BUNIT', 'K km / s'),\n",
       "             ('BMAJ', None),\n",
       "             ('BMIN', None),\n",
       "             ('BPA', None)])"
      ]
     },
     "execution_count": 32,
     "metadata": {},
     "output_type": "execute_result"
    }
   ],
   "source": [
    "meas_2.header"
   ]
  },
  {
   "cell_type": "code",
   "execution_count": 33,
   "id": "dd9da3aa",
   "metadata": {},
   "outputs": [
    {
     "name": "stdout",
     "output_type": "stream",
     "text": [
      "Converting K km/s to erg / (cm2 s sr) using Factor = +7.035E-06 g / (cm K s2)\n"
     ]
    },
    {
     "data": {
      "text/plain": [
       "0.0014152385461622117 +/- 2.081057664545145e-05 erg / (cm2 s sr)"
      ]
     },
     "execution_count": 33,
     "metadata": {},
     "output_type": "execute_result"
    }
   ],
   "source": [
    "utils.convert_integrated_intensity(meas_2)"
   ]
  },
  {
   "cell_type": "markdown",
   "id": "9a303aaa",
   "metadata": {},
   "source": [
    "Utility functions"
   ]
  },
  {
   "cell_type": "code",
   "execution_count": 9,
   "id": "4d9ea492",
   "metadata": {},
   "outputs": [],
   "source": [
    "def load_user_model(ms, modelname):\n",
    "    \"\"\"\n",
    "    September 28, 2022\n",
    "    load a model I saved as FITS into a ModelSet\n",
    "    \"\"\"\n",
    "    fn_stub, title = user_models[modelname]\n",
    "    fn = os.path.join(data_dir, fn_stub)\n",
    "    ms.add_model(modelname, fn, title=title)\n",
    "\n",
    "\n",
    "def load_all_user_models(ms):\n",
    "    \"\"\"\n",
    "    September 28, 2022\n",
    "    load all models I created\n",
    "    \"\"\"\n",
    "    for modelname in user_models:\n",
    "        load_user_model(ms, modelname)\n",
    "\n",
    "\n",
    "def collect_measurement_from_tables(line_or_ratio, reg_name=None):\n",
    "    \"\"\"\n",
    "    Created: September 21, 2022\n",
    "    Get any Measurement from the tables, make any valid ratio, and\n",
    "    organize them by region.\n",
    "    :param reg_name: If a reg_name is specified, only return those\n",
    "    :returns: a Measurement; single pixel if reg_name specified\n",
    "    \"\"\"\n",
    "    supported_line_stubs = ['cii', '12co10CONV', '13co10CONV', '12co32', '13co32', 'co65CONV', 'FIR']\n",
    "    if '/' in line_or_ratio:\n",
    "        line_or_ratio = [x.strip() for x in line_or_ratio.split('/')]\n",
    "    elif isinstance(line_or_ratio, str):\n",
    "        line_or_ratio = [line_or_ratio]\n",
    "\n",
    "    if len(line_or_ratio) == 1:\n",
    "        is_ratio = False\n",
    "    elif len(line_or_ratio) == 2:\n",
    "        is_ratio = True\n",
    "    else:\n",
    "        raise ValueError(f\"Number of molecular lines can't be {len(line_or_ratio)} ({line_or_ratio})\")\n",
    "\n",
    "    fns = [get_measurement_filename(l) for l in line_or_ratio]\n",
    "    meas_list = []\n",
    "    if reg_name is not None:\n",
    "        # Find the location of this region's row\n",
    "        reg_i = None\n",
    "        for fn in fns:\n",
    "            if reg_i is None:\n",
    "                t = Table.read(fn, format='ipac')\n",
    "                reg_name_list = t['region']\n",
    "                reg_i = list(reg_name_list).index(reg_name)\n",
    "            meas_list.append(Measurement.from_table(fn, array=True)[reg_i])\n",
    "    else:\n",
    "        for fn in fns:\n",
    "            # Get all regions in one Measurement\n",
    "            meas_list.append(Measurement.from_table(fn, array=False))\n",
    "    # Take ratio if we're doing that, otherwise just get the single value\n",
    "    if is_ratio:\n",
    "        meas = meas_list[0] / meas_list[1]\n",
    "    else:\n",
    "        meas = meas_list[0]\n",
    "    return meas\n",
    "\n",
    "\n",
    "def collect_all_measurements_for_region(reg_name):\n",
    "    \"\"\"\n",
    "    Created: September 27, 2022\n",
    "    Run collect_measurements_from_tables on every supported line intensity\n",
    "    \"\"\"\n",
    "    supported_line_stubs = ['cii', 'co65CONV', 'FIR', '12co32', '12co10CONV', ] #  '13co32', '13co10CONV'\n",
    "    result = []\n",
    "    for line in supported_line_stubs:\n",
    "        result.append(collect_measurements_from_tables(line, reg_name=reg_name))\n",
    "    return result\n",
    "\n",
    "\n",
    "def get_g0_values_at_locations(reg_name):\n",
    "    \"\"\"\n",
    "    Created: September 21, 2022\n",
    "    Get the G0 from Herschel (Nicola made this) and also the one from the\n",
    "    stars that I made, return the two values as a tuple\n",
    "    :param reg_name: the name of the region\n",
    "    :return: dict(dict, dict)\n",
    "        main dictionary keys 'Herschel_G0', 'Stars_G0'\n",
    "        sub-dictionaries keys 'data', 'uncertainty', 'region'\n",
    "        in a tuple ordered (Herschel, Stars)\n",
    "    \"\"\"\n",
    "    fns = [\"uv_m16_repro_CII\", \"g0_hillenbrand_stars_fuvgt4-5_ltxarcmin\"]\n",
    "    result = {}\n",
    "    for raw_fn in fns:\n",
    "        fn = get_measurement_filename(raw_fn)\n",
    "        t = Table.read(fn, format='ipac')\n",
    "        reg_name_list = t['region']\n",
    "        reg_i = list(reg_name_list).index(reg_name)\n",
    "        result[t['identifier'][reg_i]] = dict(t[reg_i])\n",
    "    return result\n"
   ]
  },
  {
   "cell_type": "code",
   "execution_count": 20,
   "id": "cd8eeb5a",
   "metadata": {},
   "outputs": [
    {
     "name": "stdout",
     "output_type": "stream",
     "text": [
      "None\n"
     ]
    }
   ],
   "source": [
    "meas_list = collect_all_measurements_for_region(\"W-peak\")\n"
   ]
  },
  {
   "cell_type": "code",
   "execution_count": 13,
   "id": "45af2a93",
   "metadata": {},
   "outputs": [
    {
     "name": "stdout",
     "output_type": "stream",
     "text": [
      "Adding user model CO_65/FIR\n"
     ]
    }
   ],
   "source": [
    "ms = ModelSet(\"wk2020\", z=1)\n",
    "load_all_user_models(ms)"
   ]
  },
  {
   "cell_type": "code",
   "execution_count": 11,
   "id": "361f5280",
   "metadata": {},
   "outputs": [
    {
     "name": "stderr",
     "output_type": "stream",
     "text": [
      "/home/ramsey/anaconda3/lib/python3.9/site-packages/pdrtpy/tool/lineratiofit.py:384: UserWarning: LineRatioFit: No beam parameters in Measurement headers, assuming they are all equal!\n",
      "  self._check_compatibility()\n"
     ]
    },
    {
     "ename": "Exception",
     "evalue": "Image header has no RESTFREQ. You must supply wavelength",
     "output_type": "error",
     "traceback": [
      "\u001b[0;31m---------------------------------------------------------------------------\u001b[0m",
      "\u001b[0;31mException\u001b[0m                                 Traceback (most recent call last)",
      "\u001b[0;32m/tmp/ipykernel_34539/2242626204.py\u001b[0m in \u001b[0;36m<module>\u001b[0;34m\u001b[0m\n\u001b[1;32m      1\u001b[0m \u001b[0mp\u001b[0m \u001b[0;34m=\u001b[0m \u001b[0mLineRatioFit\u001b[0m\u001b[0;34m(\u001b[0m\u001b[0mms\u001b[0m\u001b[0;34m,\u001b[0m \u001b[0mmeasurements\u001b[0m\u001b[0;34m=\u001b[0m\u001b[0mmeas_list\u001b[0m\u001b[0;34m)\u001b[0m\u001b[0;34m\u001b[0m\u001b[0;34m\u001b[0m\u001b[0m\n\u001b[0;32m----> 2\u001b[0;31m \u001b[0mp\u001b[0m\u001b[0;34m.\u001b[0m\u001b[0mrun\u001b[0m\u001b[0;34m(\u001b[0m\u001b[0;34m)\u001b[0m\u001b[0;34m\u001b[0m\u001b[0;34m\u001b[0m\u001b[0m\n\u001b[0m\u001b[1;32m      3\u001b[0m \u001b[0mlrp_plot\u001b[0m \u001b[0;34m=\u001b[0m \u001b[0mLineRatioPlot\u001b[0m\u001b[0;34m(\u001b[0m\u001b[0mp\u001b[0m\u001b[0;34m)\u001b[0m\u001b[0;34m\u001b[0m\u001b[0;34m\u001b[0m\u001b[0m\n",
      "\u001b[0;32m~/anaconda3/lib/python3.9/site-packages/pdrtpy/tool/lineratiofit.py\u001b[0m in \u001b[0;36mrun\u001b[0;34m(self, **kwargs)\u001b[0m\n\u001b[1;32m    388\u001b[0m         \u001b[0mself\u001b[0m\u001b[0;34m.\u001b[0m\u001b[0m_mask_measurements\u001b[0m\u001b[0;34m(\u001b[0m\u001b[0mkwargs_opts\u001b[0m\u001b[0;34m[\u001b[0m\u001b[0;34m'mask'\u001b[0m\u001b[0;34m]\u001b[0m\u001b[0;34m)\u001b[0m\u001b[0;34m\u001b[0m\u001b[0;34m\u001b[0m\u001b[0m\n\u001b[1;32m    389\u001b[0m         \u001b[0mkwargs_opts\u001b[0m\u001b[0;34m.\u001b[0m\u001b[0mpop\u001b[0m\u001b[0;34m(\u001b[0m\u001b[0;34m'mask'\u001b[0m\u001b[0;34m)\u001b[0m\u001b[0;34m\u001b[0m\u001b[0;34m\u001b[0m\u001b[0m\n\u001b[0;32m--> 390\u001b[0;31m         \u001b[0mself\u001b[0m\u001b[0;34m.\u001b[0m\u001b[0m_compute_valid_ratios\u001b[0m\u001b[0;34m(\u001b[0m\u001b[0;34m)\u001b[0m\u001b[0;34m\u001b[0m\u001b[0;34m\u001b[0m\u001b[0m\n\u001b[0m\u001b[1;32m    391\u001b[0m         \u001b[0;32mif\u001b[0m \u001b[0mself\u001b[0m\u001b[0;34m.\u001b[0m\u001b[0mratiocount\u001b[0m \u001b[0;34m==\u001b[0m \u001b[0;36m0\u001b[0m \u001b[0;34m:\u001b[0m\u001b[0;34m\u001b[0m\u001b[0;34m\u001b[0m\u001b[0m\n\u001b[1;32m    392\u001b[0m             \u001b[0;32mraise\u001b[0m \u001b[0mException\u001b[0m\u001b[0;34m(\u001b[0m\u001b[0;34m\"No models were found that match your data. Check ModelSet.supported_ratios.\"\u001b[0m\u001b[0;34m)\u001b[0m\u001b[0;34m\u001b[0m\u001b[0;34m\u001b[0m\u001b[0m\n",
      "\u001b[0;32m~/anaconda3/lib/python3.9/site-packages/pdrtpy/tool/lineratiofit.py\u001b[0m in \u001b[0;36m_compute_valid_ratios\u001b[0;34m(self)\u001b[0m\n\u001b[1;32m    472\u001b[0m             \u001b[0mlabel\u001b[0m \u001b[0;34m=\u001b[0m \u001b[0mp\u001b[0m\u001b[0;34m[\u001b[0m\u001b[0;34m\"numerator\"\u001b[0m\u001b[0;34m]\u001b[0m\u001b[0;34m+\u001b[0m\u001b[0;34m\"/\"\u001b[0m\u001b[0;34m+\u001b[0m\u001b[0mp\u001b[0m\u001b[0;34m[\u001b[0m\u001b[0;34m\"denominator\"\u001b[0m\u001b[0;34m]\u001b[0m\u001b[0;34m\u001b[0m\u001b[0;34m\u001b[0m\u001b[0m\n\u001b[1;32m    473\u001b[0m             \u001b[0;31m# deepcopy workaround for bug: https://github.com/astropy/astropy/issues/9006\u001b[0m\u001b[0;34m\u001b[0m\u001b[0;34m\u001b[0m\u001b[0m\n\u001b[0;32m--> 474\u001b[0;31m             \u001b[0mnum\u001b[0m \u001b[0;34m=\u001b[0m \u001b[0mutils\u001b[0m\u001b[0;34m.\u001b[0m\u001b[0mconvert_if_necessary\u001b[0m\u001b[0;34m(\u001b[0m\u001b[0mself\u001b[0m\u001b[0;34m.\u001b[0m\u001b[0m_measurements\u001b[0m\u001b[0;34m[\u001b[0m\u001b[0mp\u001b[0m\u001b[0;34m[\u001b[0m\u001b[0;34m\"numerator\"\u001b[0m\u001b[0;34m]\u001b[0m\u001b[0;34m]\u001b[0m\u001b[0;34m)\u001b[0m\u001b[0;34m\u001b[0m\u001b[0;34m\u001b[0m\u001b[0m\n\u001b[0m\u001b[1;32m    475\u001b[0m             \u001b[0mdenom\u001b[0m \u001b[0;34m=\u001b[0m \u001b[0mutils\u001b[0m\u001b[0;34m.\u001b[0m\u001b[0mconvert_if_necessary\u001b[0m\u001b[0;34m(\u001b[0m\u001b[0mself\u001b[0m\u001b[0;34m.\u001b[0m\u001b[0m_measurements\u001b[0m\u001b[0;34m[\u001b[0m\u001b[0mp\u001b[0m\u001b[0;34m[\u001b[0m\u001b[0;34m\"denominator\"\u001b[0m\u001b[0;34m]\u001b[0m\u001b[0;34m]\u001b[0m\u001b[0;34m)\u001b[0m\u001b[0;34m\u001b[0m\u001b[0;34m\u001b[0m\u001b[0m\n\u001b[1;32m    476\u001b[0m             \u001b[0mself\u001b[0m\u001b[0;34m.\u001b[0m\u001b[0m_observedratios\u001b[0m\u001b[0;34m[\u001b[0m\u001b[0mlabel\u001b[0m\u001b[0;34m]\u001b[0m \u001b[0;34m=\u001b[0m \u001b[0mdeepcopy\u001b[0m\u001b[0;34m(\u001b[0m\u001b[0mnum\u001b[0m\u001b[0;34m/\u001b[0m\u001b[0mdenom\u001b[0m\u001b[0;34m)\u001b[0m\u001b[0;34m\u001b[0m\u001b[0;34m\u001b[0m\u001b[0m\n",
      "\u001b[0;32m~/anaconda3/lib/python3.9/site-packages/pdrtpy/pdrutils.py\u001b[0m in \u001b[0;36mconvert_if_necessary\u001b[0;34m(image)\u001b[0m\n\u001b[1;32m    478\u001b[0m     \u001b[0m_u2\u001b[0m \u001b[0;34m=\u001b[0m \u001b[0mu\u001b[0m\u001b[0;34m.\u001b[0m\u001b[0mUnit\u001b[0m\u001b[0;34m(\u001b[0m\u001b[0;34m\"K km s-1\"\u001b[0m\u001b[0;34m)\u001b[0m\u001b[0;34m\u001b[0m\u001b[0;34m\u001b[0m\u001b[0m\n\u001b[1;32m    479\u001b[0m     \u001b[0;32mif\u001b[0m \u001b[0m_u1\u001b[0m \u001b[0;34m==\u001b[0m \u001b[0m_u2\u001b[0m\u001b[0;34m:\u001b[0m\u001b[0;34m\u001b[0m\u001b[0;34m\u001b[0m\u001b[0m\n\u001b[0;32m--> 480\u001b[0;31m         \u001b[0;32mreturn\u001b[0m \u001b[0mconvert_integrated_intensity\u001b[0m\u001b[0;34m(\u001b[0m\u001b[0mimage\u001b[0m\u001b[0;34m)\u001b[0m\u001b[0;34m\u001b[0m\u001b[0;34m\u001b[0m\u001b[0m\n\u001b[0m\u001b[1;32m    481\u001b[0m     \u001b[0;32melse\u001b[0m\u001b[0;34m:\u001b[0m\u001b[0;34m\u001b[0m\u001b[0;34m\u001b[0m\u001b[0m\n\u001b[1;32m    482\u001b[0m         \u001b[0;32mreturn\u001b[0m \u001b[0mimage\u001b[0m\u001b[0;34m\u001b[0m\u001b[0;34m\u001b[0m\u001b[0m\n",
      "\u001b[0;32m~/anaconda3/lib/python3.9/site-packages/pdrtpy/pdrutils.py\u001b[0m in \u001b[0;36mconvert_integrated_intensity\u001b[0;34m(image, wavelength)\u001b[0m\n\u001b[1;32m    443\u001b[0m     \u001b[0mf\u001b[0m \u001b[0;34m=\u001b[0m \u001b[0mimage\u001b[0m\u001b[0;34m.\u001b[0m\u001b[0mheader\u001b[0m\u001b[0;34m.\u001b[0m\u001b[0mget\u001b[0m\u001b[0;34m(\u001b[0m\u001b[0;34m\"RESTFREQ\"\u001b[0m\u001b[0;34m,\u001b[0m\u001b[0;32mNone\u001b[0m\u001b[0;34m)\u001b[0m\u001b[0;34m\u001b[0m\u001b[0;34m\u001b[0m\u001b[0m\n\u001b[1;32m    444\u001b[0m     \u001b[0;32mif\u001b[0m \u001b[0mf\u001b[0m \u001b[0;32mis\u001b[0m \u001b[0;32mNone\u001b[0m \u001b[0;32mand\u001b[0m \u001b[0mwavelength\u001b[0m \u001b[0;32mis\u001b[0m \u001b[0;32mNone\u001b[0m\u001b[0;34m:\u001b[0m\u001b[0;34m\u001b[0m\u001b[0;34m\u001b[0m\u001b[0m\n\u001b[0;32m--> 445\u001b[0;31m         \u001b[0;32mraise\u001b[0m \u001b[0mException\u001b[0m\u001b[0;34m(\u001b[0m\u001b[0;34m\"Image header has no RESTFREQ. You must supply wavelength\"\u001b[0m\u001b[0;34m)\u001b[0m\u001b[0;34m\u001b[0m\u001b[0;34m\u001b[0m\u001b[0m\n\u001b[0m\u001b[1;32m    446\u001b[0m     \u001b[0;32mif\u001b[0m \u001b[0mf\u001b[0m \u001b[0;32mis\u001b[0m \u001b[0;32mnot\u001b[0m \u001b[0;32mNone\u001b[0m \u001b[0;32mand\u001b[0m \u001b[0mwavelength\u001b[0m \u001b[0;32mis\u001b[0m \u001b[0;32mNone\u001b[0m\u001b[0;34m:\u001b[0m\u001b[0;34m\u001b[0m\u001b[0;34m\u001b[0m\u001b[0m\n\u001b[1;32m    447\u001b[0m        \u001b[0;31m# FITS restfreq's are in Hz\u001b[0m\u001b[0;34m\u001b[0m\u001b[0;34m\u001b[0m\u001b[0m\n",
      "\u001b[0;31mException\u001b[0m: Image header has no RESTFREQ. You must supply wavelength"
     ]
    }
   ],
   "source": [
    "p = LineRatioFit(ms, measurements=meas_list)\n",
    "p.run()\n",
    "lrp_plot = LineRatioPlot(p)"
   ]
  },
  {
   "cell_type": "code",
   "execution_count": 1,
   "id": "5f41be53",
   "metadata": {},
   "outputs": [
    {
     "ename": "NameError",
     "evalue": "name 'meas_list' is not defined",
     "output_type": "error",
     "traceback": [
      "\u001b[0;31m---------------------------------------------------------------------------\u001b[0m",
      "\u001b[0;31mNameError\u001b[0m                                 Traceback (most recent call last)",
      "\u001b[0;32m/tmp/ipykernel_34539/1030475815.py\u001b[0m in \u001b[0;36m<module>\u001b[0;34m\u001b[0m\n\u001b[1;32m      3\u001b[0m \u001b[0;31m# co65_fir_meas = co65_meas/fir_meas\u001b[0m\u001b[0;34m\u001b[0m\u001b[0;34m\u001b[0m\u001b[0m\n\u001b[1;32m      4\u001b[0m \u001b[0;31m# print(co65_fir_meas.title)\u001b[0m\u001b[0;34m\u001b[0m\u001b[0;34m\u001b[0m\u001b[0m\n\u001b[0;32m----> 5\u001b[0;31m \u001b[0mmeas_list\u001b[0m\u001b[0;34m\u001b[0m\u001b[0;34m\u001b[0m\u001b[0m\n\u001b[0m\u001b[1;32m      6\u001b[0m \u001b[0;34m\u001b[0m\u001b[0m\n\u001b[1;32m      7\u001b[0m \u001b[0;34m\u001b[0m\u001b[0m\n",
      "\u001b[0;31mNameError\u001b[0m: name 'meas_list' is not defined"
     ]
    }
   ],
   "source": [
    "# co65_meas = [x for x in meas_list if \"65\" in x.id].pop()\n",
    "# fir_meas = [x for x in meas_list if \"FIR\" in x.id].pop()\n",
    "# co65_fir_meas = co65_meas/fir_meas\n",
    "# print(co65_fir_meas.title)\n",
    "meas_list\n",
    "\n",
    "\n",
    "# co65_fir_meas.title = user_models['CO_65/FIR'][1]\n",
    "# print(co65_meas/fir_meas)\n",
    "# new_meas_list = list(meas_list) + [co65_meas / fir_meas]\n",
    "# print([x.id for x in new_meas_list])\n",
    "# return\n",
    "# new_meas_list = [x for x in new_meas_list if \"FIR\" not in x.id][-3:]\n",
    "# lrp_plot.overlay_all_ratios(yaxis_unit=\"Habing\", figsize=(15, 10),\n",
    "#     loc='upper left')"
   ]
  },
  {
   "cell_type": "code",
   "execution_count": null,
   "id": "ea90272a",
   "metadata": {},
   "outputs": [],
   "source": [
    "# g0_dict = get_g0_values_at_locations(reg_name)\n",
    "# g0_plot_params = {'Stars_G0': ('#1f77b4', 'bottom'), 'Herschel_G0': ('#ff7f0e', 'top')}\n",
    "# for g0_name in g0_dict:\n",
    "#     color, va = g0_plot_params[g0_name]\n",
    "#     lrp_plot._plt.axhline(g0_dict[g0_name]['data'], linestyle='--', color=color)\n",
    "#     lrp_plot._plt.text(15, g0_dict[g0_name]['data'], g0_name.replace('_G0', ' $G_0$'), color=color, fontsize='large', va=va)\n",
    "\n",
    "\n",
    "# dens, dens_unc = p.density.value, p.density.uncertainty.array\n",
    "# radfield_meas = utils.to(utils.habing_unit, p.radiation_field)\n",
    "# radfield, radfield_unc = radfield_meas.value, radfield_meas.uncertainty.array\n",
    "# lrp_plot._plt.errorbar(dens, radfield, xerr=dens_unc, yerr=radfield_unc, color='k')"
   ]
  }
 ],
 "metadata": {
  "kernelspec": {
   "display_name": "Python 3 (ipykernel)",
   "language": "python",
   "name": "python3"
  },
  "language_info": {
   "codemirror_mode": {
    "name": "ipython",
    "version": 3
   },
   "file_extension": ".py",
   "mimetype": "text/x-python",
   "name": "python",
   "nbconvert_exporter": "python",
   "pygments_lexer": "ipython3",
   "version": "3.9.7"
  }
 },
 "nbformat": 4,
 "nbformat_minor": 5
}
