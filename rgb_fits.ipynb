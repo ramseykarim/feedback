{
 "cells": [
  {
   "cell_type": "markdown",
   "id": "fc646e37",
   "metadata": {},
   "source": [
    "# Save RGB FITS cube\n",
    "I have an example file which opens easily as a FITS RGB cube, I want to convert a PNG to this same format."
   ]
  },
  {
   "cell_type": "code",
   "execution_count": null,
   "id": "358e1dff",
   "metadata": {},
   "outputs": [],
   "source": [
    "import os\n",
    "import numpy as np\n",
    "import matplotlib.pyplot as plt\n",
    "from astropy.io import fits\n",
    "from astropy.wcs import WCS"
   ]
  },
  {
   "cell_type": "code",
   "execution_count": null,
   "id": "dd6cb0ef",
   "metadata": {},
   "outputs": [],
   "source": [
    "data_path = \"/home/ramsey/Documents/Research/Feedback/m16_data\"\n",
    "example_fn = os.path.join(data_path, \"optical/m16_noao_astrometry.fits\")"
   ]
  },
  {
   "cell_type": "code",
   "execution_count": null,
   "id": "25ac2b9a",
   "metadata": {},
   "outputs": [],
   "source": [
    "with fits.open(example_fn) as hdul:\n",
    "    header = hdul[0].header\n",
    "    data = hdul[0].data"
   ]
  },
  {
   "cell_type": "code",
   "execution_count": null,
   "id": "c4b689b3",
   "metadata": {},
   "outputs": [],
   "source": [
    "header"
   ]
  },
  {
   "cell_type": "code",
   "execution_count": null,
   "id": "35cb7a37",
   "metadata": {},
   "outputs": [],
   "source": [
    "data.shape"
   ]
  },
  {
   "cell_type": "code",
   "execution_count": null,
   "id": "87e0b218",
   "metadata": {},
   "outputs": [],
   "source": [
    "plt.imshow(np.moveaxis(data, 0, -1))"
   ]
  },
  {
   "cell_type": "code",
   "execution_count": null,
   "id": "219c2eeb",
   "metadata": {},
   "outputs": [],
   "source": [
    "target_fn = \"/home/ramsey/Downloads/jwst_pressrelease_pillars.png\"\n",
    "from matplotlib.image import imread"
   ]
  },
  {
   "cell_type": "code",
   "execution_count": null,
   "id": "8f10eafc",
   "metadata": {},
   "outputs": [],
   "source": [
    "target_im = imread(target_fn)\n",
    "target_im.shape"
   ]
  },
  {
   "cell_type": "code",
   "execution_count": null,
   "id": "4d74c086",
   "metadata": {},
   "outputs": [],
   "source": [
    "plt.imshow(target_im)"
   ]
  }
 ],
 "metadata": {
  "kernelspec": {
   "display_name": "Python 3 (ipykernel)",
   "language": "python",
   "name": "python3"
  },
  "language_info": {
   "codemirror_mode": {
    "name": "ipython",
    "version": 3
   },
   "file_extension": ".py",
   "mimetype": "text/x-python",
   "name": "python",
   "nbconvert_exporter": "python",
   "pygments_lexer": "ipython3",
   "version": "3.9.7"
  }
 },
 "nbformat": 4,
 "nbformat_minor": 5
}
